{
 "cells": [
  {
   "cell_type": "code",
   "execution_count": 21,
   "metadata": {},
   "outputs": [
    {
     "name": "stdout",
     "output_type": "stream",
     "text": [
      "8995\n",
      "23429\n",
      "28815\n",
      "34787\n",
      "49910\n",
      "60166\n",
      "68555\n",
      "74277\n",
      "95142\n",
      "100752\n",
      "110209\n",
      "126567\n",
      "146306\n",
      "149303\n",
      "160343\n",
      "167977\n",
      "175439\n",
      "180651\n",
      "182475\n",
      "200344\n",
      "212708\n",
      "229114\n",
      "237874\n",
      "238193\n",
      "258244\n",
      "258248\n",
      "267921\n",
      "272069\n",
      "273994\n",
      "283152\n",
      "299350\n",
      "303859\n",
      "317889\n",
      "342957\n",
      "349190\n",
      "368250\n",
      "379172\n",
      "386892\n",
      "403798\n",
      "413594\n",
      "428731\n",
      "428738\n",
      "428780\n"
     ]
    }
   ],
   "source": [
    "import re\n",
    "hand = open('actual.txt')\n",
    "total = 0\n",
    "result = 0\n",
    "for line in hand:\n",
    "    line = line.rstrip()\n",
    "    x = re.findall('([0-9]+)', line)\n",
    "    if len(x) > 0:\n",
    "        x = list(map(int, x))\n",
    "        #print(x)\n",
    "        for i in range(0,len(x)):\n",
    "            total = total + x[i]\n",
    "        print(total)\n",
    "        \n",
    "        #y = sum(x[0:len(x)])\n",
    "        #print(y)\n",
    "        #result = result + sum(x)\n",
    "        \n",
    "       "
   ]
  },
  {
   "cell_type": "code",
   "execution_count": null,
   "metadata": {},
   "outputs": [],
   "source": []
  },
  {
   "cell_type": "code",
   "execution_count": null,
   "metadata": {},
   "outputs": [],
   "source": []
  }
 ],
 "metadata": {
  "kernelspec": {
   "display_name": "Python 3",
   "language": "python",
   "name": "python3"
  },
  "language_info": {
   "codemirror_mode": {
    "name": "ipython",
    "version": 3
   },
   "file_extension": ".py",
   "mimetype": "text/x-python",
   "name": "python",
   "nbconvert_exporter": "python",
   "pygments_lexer": "ipython3",
   "version": "3.8.5"
  }
 },
 "nbformat": 4,
 "nbformat_minor": 4
}
